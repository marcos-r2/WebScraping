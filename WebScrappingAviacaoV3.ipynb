{
 "cells": [
  {
   "cell_type": "markdown",
   "id": "1c3bf4fc",
   "metadata": {},
   "source": [
    "Criado para para aprendizado de WebScrappping\n",
    "\n",
    "A principio estava usando BeautifilSoap, que carregar a HTML da página (estática)\n",
    "Porém como a página de de ASPX, com necessidade de  interação passei a fazer com biblioteca Selenium\n",
    "\n",
    "5-mai-25 melhorou com contribuição do canal Comunidade DS: https://youtu.be/XLkxOBY965w\n",
    "mas ainda tem bastante coisa pra acertar e muito a aprender.\n",
    "\n",
    "6-mai-25 - Fechado o desenvolvimento, porém não existem os 43 itens informado na página, deve ser algum erro nsa apçlicação.\n",
    "mas o desenvolvimento esta finalzido.\n"
   ]
  },
  {
   "cell_type": "code",
   "execution_count": 4,
   "id": "1dcb2f79",
   "metadata": {},
   "outputs": [],
   "source": [
    "import time\n",
    "from selenium import webdriver\n",
    "from selenium.webdriver.chrome.service import Service \n",
    "import gc\n",
    "from selenium.webdriver.common.by import By\n",
    "import pandas as pd"
   ]
  },
  {
   "cell_type": "code",
   "execution_count": 5,
   "id": "65371b3a",
   "metadata": {},
   "outputs": [],
   "source": [
    "#Service é a classe usada para inicializar instancia do crome webdrive\n",
    "service = Service()\n",
    "\n",
    "#webdrive.ChromeOption é usado para definir a preferencia para browser cromoe\n",
    "options = webdriver.ChromeOptions()\n",
    "\n",
    "#inica-se a intancia do Chorme WebCriver com as definidas 'options' e 'saervice'\n",
    "driver = webdriver.Chrome(service=service, options=options)\n",
    "\n",
    "url = \"https://www.aeromercado.com.br/buscaprodA20.asp?tipo=acessorios\"\n",
    "\n",
    "driver.get(url)\n",
    "\n",
    "#time.sleep(3)"
   ]
  },
  {
   "cell_type": "code",
   "execution_count": 6,
   "id": "5ac2de9f",
   "metadata": {},
   "outputs": [],
   "source": [
    "\n",
    "\n",
    "#Carrega as 10 linhas em dados com nome do item a venda\n",
    "def CarregaItens(qlin):\n",
    "    dados = driver.find_elements(By.CLASS_NAME, \"divAeromercado\")[1:qlin+1:1]\n",
    "    itens = []\n",
    "    for row in dados:  \n",
    "        text = row.text\n",
    "        itens.append(text)\n",
    "    return itens\n"
   ]
  },
  {
   "cell_type": "code",
   "execution_count": 7,
   "id": "37975a4d",
   "metadata": {},
   "outputs": [],
   "source": [
    "#Carrega as 10 linhas em dados com preço do item a venda\n",
    "def CarregaPrecos(qlin):\n",
    "    dados = driver.find_elements(By.CLASS_NAME, \"right4p\")[0:qlin:1]\n",
    "    precos = []\n",
    "    for row in dados:  \n",
    "        linhas = row.text.split(\"\\n\")  #Aqui tem 2 linhas, pegmaos a segunda\"\n",
    "        text = linhas[1]\n",
    "        precos.append(text)\n",
    "    return precos"
   ]
  },
  {
   "cell_type": "code",
   "execution_count": 8,
   "id": "408db5dd",
   "metadata": {},
   "outputs": [],
   "source": [
    "# Fnção para concatenar as próximas páginas no DF\n",
    "def concatDF(df, qtditem):\n",
    "\n",
    "    itens = CarregaItens(qtditem)\n",
    "    precos = CarregaPrecos(qtditem)\n",
    "    novo_df = pd.DataFrame({\n",
    "        'produto': itens,\n",
    "        'preco': precos\n",
    "    })\n",
    "\n",
    "    dfresult = pd.concat([df, novo_df], ignore_index=True)\n",
    "   \n",
    "    return dfresult\n",
    "    "
   ]
  },
  {
   "cell_type": "code",
   "execution_count": null,
   "id": "31100495",
   "metadata": {},
   "outputs": [],
   "source": [
    "# Esta funcionando, mas o numero de itens informado, 43, na aparece na tela, a pagina 5 esta vazia, deve ter erro no pagina.\n",
    "qtdAcessorios = driver.find_elements(By.CLASS_NAME, 'aencontradasop')\n",
    "qtdAcessorios = int(qtdAcessorios[0].text.split()[0])  #pega a priemira linha e primeira palavra\n",
    "qtdpag = qtdAcessorios // 10\n",
    "sobra =  qtdAcessorios % 10\n",
    "if sobra > 0: qtdpag = qtdpag + 1\n",
    "ptdproc = 10\n",
    "if qtdAcessorios <= 10: #Determina qtd da primeira pagina\n",
    "    qtdproc = qtdAcessorios "
   ]
  },
  {
   "cell_type": "code",
   "execution_count": null,
   "id": "c11245a2",
   "metadata": {},
   "outputs": [],
   "source": [
    "qtdproc = 10\n",
    "if qtdAcessorios < 10: #Determina qtd da primeira pagina\n",
    "    qtdproc = qtdAcessorios \n",
    "\n",
    "#Carrega primeira pagina no DF\n",
    "itens = CarregaItens(qtdproc)\n",
    "precos = CarregaPrecos(qtdproc)\n",
    "df = pd.DataFrame({\n",
    "    'produto': itens,\n",
    "    'preco': precos\n",
    "})"
   ]
  },
  {
   "cell_type": "code",
   "execution_count": 13,
   "id": "305ff3dc",
   "metadata": {},
   "outputs": [],
   "source": [
    "qtdproc = 10\n",
    "if qtdAcessorios < 10: #Determina qtd da primeira pagina\n",
    "    qtdproc = qtdAcessorios \n",
    "\n",
    "#Carrega primeira pagina no DF\n",
    "itens = CarregaItens(qtdproc)\n",
    "precos = CarregaPrecos(qtdproc)\n",
    "df = pd.DataFrame({\n",
    "    'produto': itens,\n",
    "    'preco': precos\n",
    "})\n",
    "# Se tiver mais de 10 itens tem mais páginas, então carrega as demais (a partir da segunda)    \n",
    "if qtdpag > 1:\n",
    "    for i in range(1, qtdpag):\n",
    "    \n",
    "        driver.find_elements(By.LINK_TEXT, \"PRÓXIMA\")[0].click()\n",
    "        time.sleep(3)\n",
    "        qtdproc = 10\n",
    "        if sobra > 0 and qtdpag == i:\n",
    "            qtdproc = sobra   \n",
    "        df = concatDF(df, qtdproc)\n",
    "        \n",
    "\n",
    "#print(df)"
   ]
  },
  {
   "cell_type": "code",
   "execution_count": null,
   "id": "eba4c6aa",
   "metadata": {},
   "outputs": [],
   "source": []
  },
  {
   "cell_type": "code",
   "execution_count": null,
   "id": "1363ffcb",
   "metadata": {},
   "outputs": [],
   "source": [
    "driver.find_element(By.LINK_TEXT, str(1)).click()"
   ]
  },
  {
   "cell_type": "code",
   "execution_count": 8,
   "id": "d425c45b",
   "metadata": {},
   "outputs": [],
   "source": [
    "driver.find_elements(By.LINK_TEXT, \"PRÓXIMA\")[0].click()"
   ]
  },
  {
   "cell_type": "code",
   "execution_count": null,
   "id": "ccfe3857",
   "metadata": {},
   "outputs": [],
   "source": []
  }
 ],
 "metadata": {
  "kernelspec": {
   "display_name": "base",
   "language": "python",
   "name": "python3"
  },
  "language_info": {
   "codemirror_mode": {
    "name": "ipython",
    "version": 3
   },
   "file_extension": ".py",
   "mimetype": "text/x-python",
   "name": "python",
   "nbconvert_exporter": "python",
   "pygments_lexer": "ipython3",
   "version": "3.11.5"
  }
 },
 "nbformat": 4,
 "nbformat_minor": 5
}
